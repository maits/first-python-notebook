{
 "cells": [
  {
   "cell_type": "code",
   "execution_count": 2,
   "metadata": {
    "collapsed": true
   },
   "outputs": [],
   "source": [
    "import pandas"
   ]
  },
  {
   "cell_type": "code",
   "execution_count": 3,
   "metadata": {
    "collapsed": true
   },
   "outputs": [],
   "source": [
    "import pandas as pd"
   ]
  },
  {
   "cell_type": "code",
   "execution_count": 4,
   "metadata": {
    "collapsed": true
   },
   "outputs": [],
   "source": [
    "my_list = [2, 4, 6, 8]"
   ]
  },
  {
   "cell_type": "code",
   "execution_count": 5,
   "metadata": {
    "collapsed": true
   },
   "outputs": [],
   "source": [
    "my_series = pd.Series(my_list)"
   ]
  },
  {
   "cell_type": "code",
   "execution_count": 6,
   "metadata": {},
   "outputs": [
    {
     "data": {
      "text/plain": [
       "20"
      ]
     },
     "execution_count": 6,
     "metadata": {},
     "output_type": "execute_result"
    }
   ],
   "source": [
    "my_series.sum()"
   ]
  },
  {
   "cell_type": "code",
   "execution_count": 7,
   "metadata": {},
   "outputs": [
    {
     "data": {
      "text/plain": [
       "8"
      ]
     },
     "execution_count": 7,
     "metadata": {},
     "output_type": "execute_result"
    }
   ],
   "source": [
    "my_series.max()"
   ]
  },
  {
   "cell_type": "code",
   "execution_count": 8,
   "metadata": {},
   "outputs": [
    {
     "data": {
      "text/plain": [
       "2"
      ]
     },
     "execution_count": 8,
     "metadata": {},
     "output_type": "execute_result"
    }
   ],
   "source": [
    "my_series.min()"
   ]
  },
  {
   "cell_type": "code",
   "execution_count": 9,
   "metadata": {},
   "outputs": [
    {
     "data": {
      "text/plain": [
       "5.0"
      ]
     },
     "execution_count": 9,
     "metadata": {},
     "output_type": "execute_result"
    }
   ],
   "source": [
    "my_series.mean()"
   ]
  },
  {
   "cell_type": "code",
   "execution_count": 10,
   "metadata": {},
   "outputs": [
    {
     "data": {
      "text/plain": [
       "2.5819888974716112"
      ]
     },
     "execution_count": 10,
     "metadata": {},
     "output_type": "execute_result"
    }
   ],
   "source": [
    "my_series.std()"
   ]
  },
  {
   "cell_type": "code",
   "execution_count": 11,
   "metadata": {},
   "outputs": [
    {
     "data": {
      "text/plain": [
       "count    4.000000\n",
       "mean     5.000000\n",
       "std      2.581989\n",
       "min      2.000000\n",
       "25%      3.500000\n",
       "50%      5.000000\n",
       "75%      6.500000\n",
       "max      8.000000\n",
       "dtype: float64"
      ]
     },
     "execution_count": 11,
     "metadata": {},
     "output_type": "execute_result"
    }
   ],
   "source": [
    "my_series.describe()"
   ]
  },
  {
   "cell_type": "code",
   "execution_count": 1,
   "metadata": {},
   "outputs": [
    {
     "ename": "NameError",
     "evalue": "name 'pd' is not defined",
     "output_type": "error",
     "traceback": [
      "\u001b[0;31m---------------------------------------------------------------------------\u001b[0m",
      "\u001b[0;31mNameError\u001b[0m                                 Traceback (most recent call last)",
      "\u001b[0;32m<ipython-input-1-4d5b1e5f0d7f>\u001b[0m in \u001b[0;36m<module>\u001b[0;34m()\u001b[0m\n\u001b[0;32m----> 1\u001b[0;31m \u001b[0mpd\u001b[0m\u001b[0;34m.\u001b[0m\u001b[0mread_csv\u001b[0m\u001b[0;34m(\u001b[0m\u001b[0;34m\"http://www.firstpythonnotebook.org/_static/committees.csv\"\u001b[0m\u001b[0;34m)\u001b[0m\u001b[0;34m\u001b[0m\u001b[0m\n\u001b[0m",
      "\u001b[0;31mNameError\u001b[0m: name 'pd' is not defined"
     ]
    }
   ],
   "source": [
    "pd.read_csv(\"http://www.firstpythonnotebook.org/_static/committees.csv\")\n"
   ]
  },
  {
   "cell_type": "code",
   "execution_count": 2,
   "metadata": {
    "collapsed": true
   },
   "outputs": [],
   "source": [
    "import pandas as pd"
   ]
  },
  {
   "cell_type": "code",
   "execution_count": 4,
   "metadata": {
    "collapsed": true
   },
   "outputs": [],
   "source": [
    "props = pd.read_csv(\"http://www.firstpythonnotebook.org/_static/committees.csv\")"
   ]
  },
  {
   "cell_type": "code",
   "execution_count": 5,
   "metadata": {},
   "outputs": [
    {
     "data": {
      "text/html": [
       "<div>\n",
       "<style>\n",
       "    .dataframe thead tr:only-child th {\n",
       "        text-align: right;\n",
       "    }\n",
       "\n",
       "    .dataframe thead th {\n",
       "        text-align: left;\n",
       "    }\n",
       "\n",
       "    .dataframe tbody tr th {\n",
       "        vertical-align: top;\n",
       "    }\n",
       "</style>\n",
       "<table border=\"1\" class=\"dataframe\">\n",
       "  <thead>\n",
       "    <tr style=\"text-align: right;\">\n",
       "      <th></th>\n",
       "      <th>ocd_prop_id</th>\n",
       "      <th>calaccess_prop_id</th>\n",
       "      <th>ccdc_prop_id</th>\n",
       "      <th>prop_name</th>\n",
       "      <th>ccdc_committee_id</th>\n",
       "      <th>calaccess_committee_id</th>\n",
       "      <th>committee_name</th>\n",
       "      <th>committee_position</th>\n",
       "    </tr>\n",
       "  </thead>\n",
       "  <tbody>\n",
       "    <tr>\n",
       "      <th>0</th>\n",
       "      <td>ocd-contest/b51dc64d-3562-4913-a190-69f5088c22a6</td>\n",
       "      <td>1376258</td>\n",
       "      <td>70</td>\n",
       "      <td>PROPOSITION 051 - SCHOOL BONDS. FUNDING FOR K-...</td>\n",
       "      <td>382</td>\n",
       "      <td>1374469</td>\n",
       "      <td>YES ON PROPOSITION 51 - CALIFORNIANS FOR QUALI...</td>\n",
       "      <td>SUPPORT</td>\n",
       "    </tr>\n",
       "    <tr>\n",
       "      <th>1</th>\n",
       "      <td>ocd-contest/b51dc64d-3562-4913-a190-69f5088c22a6</td>\n",
       "      <td>1376258</td>\n",
       "      <td>70</td>\n",
       "      <td>PROPOSITION 051 - SCHOOL BONDS. FUNDING FOR K-...</td>\n",
       "      <td>383</td>\n",
       "      <td>1220380</td>\n",
       "      <td>COMMUNITY COLLEGE FACILITY COALITION ISSUES CO...</td>\n",
       "      <td>SUPPORT</td>\n",
       "    </tr>\n",
       "    <tr>\n",
       "      <th>2</th>\n",
       "      <td>ocd-contest/b51dc64d-3562-4913-a190-69f5088c22a6</td>\n",
       "      <td>1376258</td>\n",
       "      <td>70</td>\n",
       "      <td>PROPOSITION 051 - SCHOOL BONDS. FUNDING FOR K-...</td>\n",
       "      <td>384</td>\n",
       "      <td>1282321</td>\n",
       "      <td>TORLAKSON'S INVEST IN CALIFORNIA A BALLOT MEAS...</td>\n",
       "      <td>SUPPORT</td>\n",
       "    </tr>\n",
       "    <tr>\n",
       "      <th>3</th>\n",
       "      <td>ocd-contest/b51dc64d-3562-4913-a190-69f5088c22a6</td>\n",
       "      <td>1376258</td>\n",
       "      <td>70</td>\n",
       "      <td>PROPOSITION 051 - SCHOOL BONDS. FUNDING FOR K-...</td>\n",
       "      <td>385</td>\n",
       "      <td>1382843</td>\n",
       "      <td>CALIFORNIA TAXPAYERS AND EDUCATORS OPPOSED TO ...</td>\n",
       "      <td>OPPOSE</td>\n",
       "    </tr>\n",
       "    <tr>\n",
       "      <th>4</th>\n",
       "      <td>ocd-contest/85990193-9d6f-4600-b8e7-bf1317841d82</td>\n",
       "      <td>1362198</td>\n",
       "      <td>71</td>\n",
       "      <td>PROPOSITION 052 - STATE FEES ON HOSPITALS. FED...</td>\n",
       "      <td>386</td>\n",
       "      <td>1362973</td>\n",
       "      <td>YES ON PROPOSITION 52 - A COALITION OF CALIFOR...</td>\n",
       "      <td>SUPPORT</td>\n",
       "    </tr>\n",
       "  </tbody>\n",
       "</table>\n",
       "</div>"
      ],
      "text/plain": [
       "                                        ocd_prop_id  calaccess_prop_id  \\\n",
       "0  ocd-contest/b51dc64d-3562-4913-a190-69f5088c22a6            1376258   \n",
       "1  ocd-contest/b51dc64d-3562-4913-a190-69f5088c22a6            1376258   \n",
       "2  ocd-contest/b51dc64d-3562-4913-a190-69f5088c22a6            1376258   \n",
       "3  ocd-contest/b51dc64d-3562-4913-a190-69f5088c22a6            1376258   \n",
       "4  ocd-contest/85990193-9d6f-4600-b8e7-bf1317841d82            1362198   \n",
       "\n",
       "   ccdc_prop_id                                          prop_name  \\\n",
       "0            70  PROPOSITION 051 - SCHOOL BONDS. FUNDING FOR K-...   \n",
       "1            70  PROPOSITION 051 - SCHOOL BONDS. FUNDING FOR K-...   \n",
       "2            70  PROPOSITION 051 - SCHOOL BONDS. FUNDING FOR K-...   \n",
       "3            70  PROPOSITION 051 - SCHOOL BONDS. FUNDING FOR K-...   \n",
       "4            71  PROPOSITION 052 - STATE FEES ON HOSPITALS. FED...   \n",
       "\n",
       "   ccdc_committee_id  calaccess_committee_id  \\\n",
       "0                382                 1374469   \n",
       "1                383                 1220380   \n",
       "2                384                 1282321   \n",
       "3                385                 1382843   \n",
       "4                386                 1362973   \n",
       "\n",
       "                                      committee_name committee_position  \n",
       "0  YES ON PROPOSITION 51 - CALIFORNIANS FOR QUALI...            SUPPORT  \n",
       "1  COMMUNITY COLLEGE FACILITY COALITION ISSUES CO...            SUPPORT  \n",
       "2  TORLAKSON'S INVEST IN CALIFORNIA A BALLOT MEAS...            SUPPORT  \n",
       "3  CALIFORNIA TAXPAYERS AND EDUCATORS OPPOSED TO ...             OPPOSE  \n",
       "4  YES ON PROPOSITION 52 - A COALITION OF CALIFOR...            SUPPORT  "
      ]
     },
     "execution_count": 5,
     "metadata": {},
     "output_type": "execute_result"
    }
   ],
   "source": [
    "props.head()"
   ]
  },
  {
   "cell_type": "code",
   "execution_count": 6,
   "metadata": {},
   "outputs": [
    {
     "name": "stdout",
     "output_type": "stream",
     "text": [
      "<class 'pandas.core.frame.DataFrame'>\n",
      "RangeIndex: 102 entries, 0 to 101\n",
      "Data columns (total 8 columns):\n",
      "ocd_prop_id               102 non-null object\n",
      "calaccess_prop_id         102 non-null int64\n",
      "ccdc_prop_id              102 non-null int64\n",
      "prop_name                 102 non-null object\n",
      "ccdc_committee_id         102 non-null int64\n",
      "calaccess_committee_id    102 non-null int64\n",
      "committee_name            102 non-null object\n",
      "committee_position        102 non-null object\n",
      "dtypes: int64(4), object(4)\n",
      "memory usage: 6.4+ KB\n"
     ]
    }
   ],
   "source": [
    "props.info()\n"
   ]
  },
  {
   "cell_type": "code",
   "execution_count": 7,
   "metadata": {},
   "outputs": [
    {
     "ename": "NameError",
     "evalue": "name 'contribs' is not defined",
     "output_type": "error",
     "traceback": [
      "\u001b[0;31m---------------------------------------------------------------------------\u001b[0m",
      "\u001b[0;31mNameError\u001b[0m                                 Traceback (most recent call last)",
      "\u001b[0;32m<ipython-input-7-5bb14f96f84e>\u001b[0m in \u001b[0;36m<module>\u001b[0;34m()\u001b[0m\n\u001b[0;32m----> 1\u001b[0;31m \u001b[0mcontribs\u001b[0m\u001b[0;34m.\u001b[0m\u001b[0mhead\u001b[0m\u001b[0;34m(\u001b[0m\u001b[0;34m)\u001b[0m\u001b[0;34m\u001b[0m\u001b[0m\n\u001b[0m",
      "\u001b[0;31mNameError\u001b[0m: name 'contribs' is not defined"
     ]
    }
   ],
   "source": [
    "contribs.head()"
   ]
  },
  {
   "cell_type": "code",
   "execution_count": 8,
   "metadata": {
    "collapsed": true
   },
   "outputs": [],
   "source": [
    "contribs = pd.read_csv(\"http://www.firstpythonnotebook.org/_static/contributions.csv\")"
   ]
  },
  {
   "cell_type": "code",
   "execution_count": 9,
   "metadata": {},
   "outputs": [
    {
     "data": {
      "text/html": [
       "<div>\n",
       "<style>\n",
       "    .dataframe thead tr:only-child th {\n",
       "        text-align: right;\n",
       "    }\n",
       "\n",
       "    .dataframe thead th {\n",
       "        text-align: left;\n",
       "    }\n",
       "\n",
       "    .dataframe tbody tr th {\n",
       "        vertical-align: top;\n",
       "    }\n",
       "</style>\n",
       "<table border=\"1\" class=\"dataframe\">\n",
       "  <thead>\n",
       "    <tr style=\"text-align: right;\">\n",
       "      <th></th>\n",
       "      <th>calaccess_committee_id</th>\n",
       "      <th>committee_name</th>\n",
       "      <th>calaccess_filing_id</th>\n",
       "      <th>date_received</th>\n",
       "      <th>contributor_lastname</th>\n",
       "      <th>contributor_firstname</th>\n",
       "      <th>contributor_city</th>\n",
       "      <th>contributor_state</th>\n",
       "      <th>contributor_zip</th>\n",
       "      <th>contributor_employer</th>\n",
       "      <th>contributor_occupation</th>\n",
       "      <th>contributor_is_self_employed</th>\n",
       "      <th>amount</th>\n",
       "    </tr>\n",
       "  </thead>\n",
       "  <tbody>\n",
       "    <tr>\n",
       "      <th>0</th>\n",
       "      <td>1386560</td>\n",
       "      <td>ADULT USE CAMPAIGN FOR PROPOSITION 64; THE</td>\n",
       "      <td>2083796</td>\n",
       "      <td>2016-09-18</td>\n",
       "      <td>BERGMAN</td>\n",
       "      <td>GRETCHEN</td>\n",
       "      <td>SPRING VALLEY</td>\n",
       "      <td>CA</td>\n",
       "      <td>91978</td>\n",
       "      <td>A NEW PATH</td>\n",
       "      <td>EXECUTIVE DIRECTOR</td>\n",
       "      <td>False</td>\n",
       "      <td>84.0</td>\n",
       "    </tr>\n",
       "    <tr>\n",
       "      <th>1</th>\n",
       "      <td>1386560</td>\n",
       "      <td>ADULT USE CAMPAIGN FOR PROPOSITION 64; THE</td>\n",
       "      <td>2083796</td>\n",
       "      <td>2016-09-18</td>\n",
       "      <td>KAHLE</td>\n",
       "      <td>MYRNA</td>\n",
       "      <td>SAN DIEGO</td>\n",
       "      <td>CA</td>\n",
       "      <td>92109</td>\n",
       "      <td>NATIONAL SCHOOL DISTRICT</td>\n",
       "      <td>TEACHER</td>\n",
       "      <td>False</td>\n",
       "      <td>35.0</td>\n",
       "    </tr>\n",
       "    <tr>\n",
       "      <th>2</th>\n",
       "      <td>1386560</td>\n",
       "      <td>ADULT USE CAMPAIGN FOR PROPOSITION 64; THE</td>\n",
       "      <td>2083796</td>\n",
       "      <td>2016-07-15</td>\n",
       "      <td>MCDEVITT</td>\n",
       "      <td>LEO</td>\n",
       "      <td>ESCONDIDO</td>\n",
       "      <td>CA</td>\n",
       "      <td>92025</td>\n",
       "      <td>LIFE IONIZERS</td>\n",
       "      <td>SEO/CONTENT MANAGER</td>\n",
       "      <td>False</td>\n",
       "      <td>198.0</td>\n",
       "    </tr>\n",
       "    <tr>\n",
       "      <th>3</th>\n",
       "      <td>1386560</td>\n",
       "      <td>ADULT USE CAMPAIGN FOR PROPOSITION 64; THE</td>\n",
       "      <td>2083796</td>\n",
       "      <td>2016-08-10</td>\n",
       "      <td>WARREN-SAMARIPA</td>\n",
       "      <td>STEPHANIE</td>\n",
       "      <td>SAN DIEGO</td>\n",
       "      <td>CA</td>\n",
       "      <td>92116</td>\n",
       "      <td>STEPHANIE WARREN SAMARIPA</td>\n",
       "      <td>ENTREPRENEUR</td>\n",
       "      <td>False</td>\n",
       "      <td>-50.0</td>\n",
       "    </tr>\n",
       "    <tr>\n",
       "      <th>4</th>\n",
       "      <td>1386560</td>\n",
       "      <td>ADULT USE CAMPAIGN FOR PROPOSITION 64; THE</td>\n",
       "      <td>2083796</td>\n",
       "      <td>2016-07-26</td>\n",
       "      <td>WARREN-SAMARIPA</td>\n",
       "      <td>STEPHANIE</td>\n",
       "      <td>SAN DIEGO</td>\n",
       "      <td>CA</td>\n",
       "      <td>92116</td>\n",
       "      <td>STEPHANIE WARREN SAMARIPA</td>\n",
       "      <td>ENTREPRENEUR</td>\n",
       "      <td>True</td>\n",
       "      <td>50.0</td>\n",
       "    </tr>\n",
       "  </tbody>\n",
       "</table>\n",
       "</div>"
      ],
      "text/plain": [
       "   calaccess_committee_id                              committee_name  \\\n",
       "0                 1386560  ADULT USE CAMPAIGN FOR PROPOSITION 64; THE   \n",
       "1                 1386560  ADULT USE CAMPAIGN FOR PROPOSITION 64; THE   \n",
       "2                 1386560  ADULT USE CAMPAIGN FOR PROPOSITION 64; THE   \n",
       "3                 1386560  ADULT USE CAMPAIGN FOR PROPOSITION 64; THE   \n",
       "4                 1386560  ADULT USE CAMPAIGN FOR PROPOSITION 64; THE   \n",
       "\n",
       "   calaccess_filing_id date_received contributor_lastname  \\\n",
       "0              2083796    2016-09-18              BERGMAN   \n",
       "1              2083796    2016-09-18                KAHLE   \n",
       "2              2083796    2016-07-15             MCDEVITT   \n",
       "3              2083796    2016-08-10      WARREN-SAMARIPA   \n",
       "4              2083796    2016-07-26      WARREN-SAMARIPA   \n",
       "\n",
       "  contributor_firstname contributor_city contributor_state contributor_zip  \\\n",
       "0              GRETCHEN    SPRING VALLEY                CA           91978   \n",
       "1                 MYRNA        SAN DIEGO                CA           92109   \n",
       "2                   LEO        ESCONDIDO                CA           92025   \n",
       "3             STEPHANIE        SAN DIEGO                CA           92116   \n",
       "4             STEPHANIE        SAN DIEGO                CA           92116   \n",
       "\n",
       "        contributor_employer contributor_occupation  \\\n",
       "0                 A NEW PATH     EXECUTIVE DIRECTOR   \n",
       "1   NATIONAL SCHOOL DISTRICT                TEACHER   \n",
       "2              LIFE IONIZERS    SEO/CONTENT MANAGER   \n",
       "3  STEPHANIE WARREN SAMARIPA           ENTREPRENEUR   \n",
       "4  STEPHANIE WARREN SAMARIPA           ENTREPRENEUR   \n",
       "\n",
       "   contributor_is_self_employed  amount  \n",
       "0                         False    84.0  \n",
       "1                         False    35.0  \n",
       "2                         False   198.0  \n",
       "3                         False   -50.0  \n",
       "4                          True    50.0  "
      ]
     },
     "execution_count": 9,
     "metadata": {},
     "output_type": "execute_result"
    }
   ],
   "source": [
    "contribs.head()"
   ]
  },
  {
   "cell_type": "code",
   "execution_count": 10,
   "metadata": {},
   "outputs": [
    {
     "name": "stdout",
     "output_type": "stream",
     "text": [
      "<class 'pandas.core.frame.DataFrame'>\n",
      "RangeIndex: 56379 entries, 0 to 56378\n",
      "Data columns (total 13 columns):\n",
      "calaccess_committee_id          56379 non-null int64\n",
      "committee_name                  56379 non-null object\n",
      "calaccess_filing_id             56379 non-null int64\n",
      "date_received                   56379 non-null object\n",
      "contributor_lastname            56375 non-null object\n",
      "contributor_firstname           53411 non-null object\n",
      "contributor_city                56369 non-null object\n",
      "contributor_state               56363 non-null object\n",
      "contributor_zip                 56366 non-null object\n",
      "contributor_employer            48572 non-null object\n",
      "contributor_occupation          53273 non-null object\n",
      "contributor_is_self_employed    56379 non-null bool\n",
      "amount                          56379 non-null float64\n",
      "dtypes: bool(1), float64(1), int64(2), object(9)\n",
      "memory usage: 5.2+ MB\n"
     ]
    }
   ],
   "source": [
    "contribs.info()"
   ]
  },
  {
   "cell_type": "code",
   "execution_count": 1,
   "metadata": {},
   "outputs": [
    {
     "ename": "NameError",
     "evalue": "name 'contribs' is not defined",
     "output_type": "error",
     "traceback": [
      "\u001b[0;31m---------------------------------------------------------------------------\u001b[0m",
      "\u001b[0;31mNameError\u001b[0m                                 Traceback (most recent call last)",
      "\u001b[0;32m<ipython-input-1-7e6f8a0b998e>\u001b[0m in \u001b[0;36m<module>\u001b[0;34m()\u001b[0m\n\u001b[0;32m----> 1\u001b[0;31m \u001b[0mcontribs\u001b[0m\u001b[0;34m.\u001b[0m\u001b[0minfo\u001b[0m\u001b[0;34m(\u001b[0m\u001b[0;34m)\u001b[0m\u001b[0;34m\u001b[0m\u001b[0m\n\u001b[0m",
      "\u001b[0;31mNameError\u001b[0m: name 'contribs' is not defined"
     ]
    }
   ],
   "source": [
    "contribs.info()"
   ]
  },
  {
   "cell_type": "code",
   "execution_count": 2,
   "metadata": {
    "collapsed": true
   },
   "outputs": [],
   "source": [
    "import pandas as pd\n"
   ]
  },
  {
   "cell_type": "code",
   "execution_count": 3,
   "metadata": {
    "collapsed": true
   },
   "outputs": [],
   "source": [
    "props = pd.read_csv(\"http://www.firstpythonnotebook.org/_static/committees.csv\") "
   ]
  },
  {
   "cell_type": "code",
   "execution_count": 4,
   "metadata": {
    "collapsed": true
   },
   "outputs": [],
   "source": [
    "contribs = pd.read_csv(\"http://www.firstpythonnotebook.org/_static/contributions.csv\")"
   ]
  },
  {
   "cell_type": "code",
   "execution_count": 5,
   "metadata": {},
   "outputs": [
    {
     "ename": "NameError",
     "evalue": "name 'prop' is not defined",
     "output_type": "error",
     "traceback": [
      "\u001b[0;31m---------------------------------------------------------------------------\u001b[0m",
      "\u001b[0;31mNameError\u001b[0m                                 Traceback (most recent call last)",
      "\u001b[0;32m<ipython-input-5-0f550b8d0cdc>\u001b[0m in \u001b[0;36m<module>\u001b[0;34m()\u001b[0m\n\u001b[0;32m----> 1\u001b[0;31m \u001b[0mmerged\u001b[0m \u001b[0;34m=\u001b[0m \u001b[0mpd\u001b[0m\u001b[0;34m.\u001b[0m\u001b[0mmerge\u001b[0m\u001b[0;34m(\u001b[0m\u001b[0mprop\u001b[0m\u001b[0;34m,\u001b[0m \u001b[0mcontribs\u001b[0m\u001b[0;34m,\u001b[0m \u001b[0mon\u001b[0m\u001b[0;34m=\u001b[0m\u001b[0;34m\"calaccess_committee_id\"\u001b[0m\u001b[0;34m)\u001b[0m\u001b[0;34m\u001b[0m\u001b[0m\n\u001b[0m",
      "\u001b[0;31mNameError\u001b[0m: name 'prop' is not defined"
     ]
    }
   ],
   "source": [
    "merged = pd.merge(prop, contribs, on=\"calaccess_committee_id\") "
   ]
  },
  {
   "cell_type": "code",
   "execution_count": 6,
   "metadata": {
    "collapsed": true
   },
   "outputs": [],
   "source": [
    "merged = pd.merge(props, contribs, on=\"calaccess_committee_id\") "
   ]
  },
  {
   "cell_type": "code",
   "execution_count": 7,
   "metadata": {},
   "outputs": [
    {
     "name": "stdout",
     "output_type": "stream",
     "text": [
      "<class 'pandas.core.frame.DataFrame'>\n",
      "Int64Index: 90264 entries, 0 to 90263\n",
      "Data columns (total 20 columns):\n",
      "ocd_prop_id                     90264 non-null object\n",
      "calaccess_prop_id               90264 non-null int64\n",
      "ccdc_prop_id                    90264 non-null int64\n",
      "prop_name                       90264 non-null object\n",
      "ccdc_committee_id               90264 non-null int64\n",
      "calaccess_committee_id          90264 non-null int64\n",
      "committee_name_x                90264 non-null object\n",
      "committee_position              90264 non-null object\n",
      "committee_name_y                90264 non-null object\n",
      "calaccess_filing_id             90264 non-null int64\n",
      "date_received                   90264 non-null object\n",
      "contributor_lastname            90256 non-null object\n",
      "contributor_firstname           86685 non-null object\n",
      "contributor_city                90251 non-null object\n",
      "contributor_state               90244 non-null object\n",
      "contributor_zip                 90248 non-null object\n",
      "contributor_employer            81684 non-null object\n",
      "contributor_occupation          86545 non-null object\n",
      "contributor_is_self_employed    90264 non-null bool\n",
      "amount                          90264 non-null float64\n",
      "dtypes: bool(1), float64(1), int64(5), object(13)\n",
      "memory usage: 13.9+ MB\n"
     ]
    }
   ],
   "source": [
    "merged.info()"
   ]
  },
  {
   "cell_type": "code",
   "execution_count": 8,
   "metadata": {},
   "outputs": [
    {
     "data": {
      "text/plain": [
       "466851993.3900001"
      ]
     },
     "execution_count": 8,
     "metadata": {},
     "output_type": "execute_result"
    }
   ],
   "source": [
    "merged.amount.sum()"
   ]
  },
  {
   "cell_type": "code",
   "execution_count": 9,
   "metadata": {},
   "outputs": [
    {
     "ename": "AttributeError",
     "evalue": "'DataFrame' object has no attribute 'committe_position'",
     "output_type": "error",
     "traceback": [
      "\u001b[0;31m---------------------------------------------------------------------------\u001b[0m",
      "\u001b[0;31mAttributeError\u001b[0m                            Traceback (most recent call last)",
      "\u001b[0;32m<ipython-input-9-9e7e48123c5a>\u001b[0m in \u001b[0;36m<module>\u001b[0;34m()\u001b[0m\n\u001b[0;32m----> 1\u001b[0;31m \u001b[0mmerged\u001b[0m\u001b[0;34m.\u001b[0m\u001b[0mcommitte_position\u001b[0m\u001b[0;34m.\u001b[0m\u001b[0mvalue_counts\u001b[0m\u001b[0;34m(\u001b[0m\u001b[0;34m)\u001b[0m\u001b[0;34m\u001b[0m\u001b[0m\n\u001b[0m",
      "\u001b[0;32m/Users/maitefernandez/Code/first-python-notebook/lib/python2.7/site-packages/pandas/core/generic.pyc\u001b[0m in \u001b[0;36m__getattr__\u001b[0;34m(self, name)\u001b[0m\n\u001b[1;32m   3079\u001b[0m             \u001b[0;32mif\u001b[0m \u001b[0mname\u001b[0m \u001b[0;32min\u001b[0m \u001b[0mself\u001b[0m\u001b[0;34m.\u001b[0m\u001b[0m_info_axis\u001b[0m\u001b[0;34m:\u001b[0m\u001b[0;34m\u001b[0m\u001b[0m\n\u001b[1;32m   3080\u001b[0m                 \u001b[0;32mreturn\u001b[0m \u001b[0mself\u001b[0m\u001b[0;34m[\u001b[0m\u001b[0mname\u001b[0m\u001b[0;34m]\u001b[0m\u001b[0;34m\u001b[0m\u001b[0m\n\u001b[0;32m-> 3081\u001b[0;31m             \u001b[0;32mreturn\u001b[0m \u001b[0mobject\u001b[0m\u001b[0;34m.\u001b[0m\u001b[0m__getattribute__\u001b[0m\u001b[0;34m(\u001b[0m\u001b[0mself\u001b[0m\u001b[0;34m,\u001b[0m \u001b[0mname\u001b[0m\u001b[0;34m)\u001b[0m\u001b[0;34m\u001b[0m\u001b[0m\n\u001b[0m\u001b[1;32m   3082\u001b[0m \u001b[0;34m\u001b[0m\u001b[0m\n\u001b[1;32m   3083\u001b[0m     \u001b[0;32mdef\u001b[0m \u001b[0m__setattr__\u001b[0m\u001b[0;34m(\u001b[0m\u001b[0mself\u001b[0m\u001b[0;34m,\u001b[0m \u001b[0mname\u001b[0m\u001b[0;34m,\u001b[0m \u001b[0mvalue\u001b[0m\u001b[0;34m)\u001b[0m\u001b[0;34m:\u001b[0m\u001b[0;34m\u001b[0m\u001b[0m\n",
      "\u001b[0;31mAttributeError\u001b[0m: 'DataFrame' object has no attribute 'committe_position'"
     ]
    }
   ],
   "source": [
    "merged.committe_position.value_counts()"
   ]
  },
  {
   "cell_type": "code",
   "execution_count": 10,
   "metadata": {},
   "outputs": [
    {
     "data": {
      "text/plain": [
       "SUPPORT    50158\n",
       "OPPOSE     40106\n",
       "Name: committee_position, dtype: int64"
      ]
     },
     "execution_count": 10,
     "metadata": {},
     "output_type": "execute_result"
    }
   ],
   "source": [
    "merged.committee_position.value_counts()\n"
   ]
  },
  {
   "cell_type": "code",
   "execution_count": 11,
   "metadata": {},
   "outputs": [
    {
     "ename": "TypeError",
     "evalue": "'DataFrame' object is not callable",
     "output_type": "error",
     "traceback": [
      "\u001b[0;31m---------------------------------------------------------------------------\u001b[0m",
      "\u001b[0;31mTypeError\u001b[0m                                 Traceback (most recent call last)",
      "\u001b[0;32m<ipython-input-11-b83985590bfb>\u001b[0m in \u001b[0;36m<module>\u001b[0;34m()\u001b[0m\n\u001b[0;32m----> 1\u001b[0;31m \u001b[0msupport\u001b[0m \u001b[0;34m=\u001b[0m \u001b[0mmerged\u001b[0m\u001b[0;34m(\u001b[0m\u001b[0mmerged\u001b[0m\u001b[0;34m.\u001b[0m\u001b[0mcommittee_position\u001b[0m \u001b[0;34m==\u001b[0m \u001b[0;34m\"SUPPORT\"\u001b[0m\u001b[0;34m)\u001b[0m\u001b[0;34m\u001b[0m\u001b[0m\n\u001b[0m",
      "\u001b[0;31mTypeError\u001b[0m: 'DataFrame' object is not callable"
     ]
    }
   ],
   "source": [
    "support = merged(merged.committee_position == \"SUPPORT\")"
   ]
  },
  {
   "cell_type": "code",
   "execution_count": 12,
   "metadata": {},
   "outputs": [
    {
     "ename": "TypeError",
     "evalue": "'DataFrame' object is not callable",
     "output_type": "error",
     "traceback": [
      "\u001b[0;31m---------------------------------------------------------------------------\u001b[0m",
      "\u001b[0;31mTypeError\u001b[0m                                 Traceback (most recent call last)",
      "\u001b[0;32m<ipython-input-12-630ccf01cb25>\u001b[0m in \u001b[0;36m<module>\u001b[0;34m()\u001b[0m\n\u001b[0;32m----> 1\u001b[0;31m \u001b[0msupport\u001b[0m \u001b[0;34m=\u001b[0m \u001b[0mmerged\u001b[0m\u001b[0;34m(\u001b[0m\u001b[0mmerged\u001b[0m\u001b[0;34m.\u001b[0m\u001b[0mcommittee_position\u001b[0m\u001b[0;34m.\u001b[0m\u001b[0mvalue_counts\u001b[0m \u001b[0;34m==\u001b[0m \u001b[0;34m\"SUPPORT\"\u001b[0m\u001b[0;34m)\u001b[0m\u001b[0;34m\u001b[0m\u001b[0m\n\u001b[0m",
      "\u001b[0;31mTypeError\u001b[0m: 'DataFrame' object is not callable"
     ]
    }
   ],
   "source": [
    "support = merged(merged.committee_position.value_counts == \"SUPPORT\")"
   ]
  },
  {
   "cell_type": "code",
   "execution_count": 13,
   "metadata": {},
   "outputs": [
    {
     "ename": "AttributeError",
     "evalue": "'DataFrame' object has no attribute 'committee_positioN'",
     "output_type": "error",
     "traceback": [
      "\u001b[0;31m---------------------------------------------------------------------------\u001b[0m",
      "\u001b[0;31mAttributeError\u001b[0m                            Traceback (most recent call last)",
      "\u001b[0;32m<ipython-input-13-d0c5847d26be>\u001b[0m in \u001b[0;36m<module>\u001b[0;34m()\u001b[0m\n\u001b[0;32m----> 1\u001b[0;31m \u001b[0msupport\u001b[0m \u001b[0;34m=\u001b[0m \u001b[0mmerged\u001b[0m\u001b[0;34m(\u001b[0m\u001b[0mmerged\u001b[0m\u001b[0;34m.\u001b[0m\u001b[0mcommittee_positioN\u001b[0m \u001b[0;34m==\u001b[0m \u001b[0;34m\"SUPPORT\"\u001b[0m\u001b[0;34m)\u001b[0m\u001b[0;34m\u001b[0m\u001b[0m\n\u001b[0m",
      "\u001b[0;32m/Users/maitefernandez/Code/first-python-notebook/lib/python2.7/site-packages/pandas/core/generic.pyc\u001b[0m in \u001b[0;36m__getattr__\u001b[0;34m(self, name)\u001b[0m\n\u001b[1;32m   3079\u001b[0m             \u001b[0;32mif\u001b[0m \u001b[0mname\u001b[0m \u001b[0;32min\u001b[0m \u001b[0mself\u001b[0m\u001b[0;34m.\u001b[0m\u001b[0m_info_axis\u001b[0m\u001b[0;34m:\u001b[0m\u001b[0;34m\u001b[0m\u001b[0m\n\u001b[1;32m   3080\u001b[0m                 \u001b[0;32mreturn\u001b[0m \u001b[0mself\u001b[0m\u001b[0;34m[\u001b[0m\u001b[0mname\u001b[0m\u001b[0;34m]\u001b[0m\u001b[0;34m\u001b[0m\u001b[0m\n\u001b[0;32m-> 3081\u001b[0;31m             \u001b[0;32mreturn\u001b[0m \u001b[0mobject\u001b[0m\u001b[0;34m.\u001b[0m\u001b[0m__getattribute__\u001b[0m\u001b[0;34m(\u001b[0m\u001b[0mself\u001b[0m\u001b[0;34m,\u001b[0m \u001b[0mname\u001b[0m\u001b[0;34m)\u001b[0m\u001b[0;34m\u001b[0m\u001b[0m\n\u001b[0m\u001b[1;32m   3082\u001b[0m \u001b[0;34m\u001b[0m\u001b[0m\n\u001b[1;32m   3083\u001b[0m     \u001b[0;32mdef\u001b[0m \u001b[0m__setattr__\u001b[0m\u001b[0;34m(\u001b[0m\u001b[0mself\u001b[0m\u001b[0;34m,\u001b[0m \u001b[0mname\u001b[0m\u001b[0;34m,\u001b[0m \u001b[0mvalue\u001b[0m\u001b[0;34m)\u001b[0m\u001b[0;34m:\u001b[0m\u001b[0;34m\u001b[0m\u001b[0m\n",
      "\u001b[0;31mAttributeError\u001b[0m: 'DataFrame' object has no attribute 'committee_positioN'"
     ]
    }
   ],
   "source": [
    "support = merged(merged.committee_positioN == \"SUPPORT\")"
   ]
  },
  {
   "cell_type": "code",
   "execution_count": 14,
   "metadata": {},
   "outputs": [
    {
     "ename": "TypeError",
     "evalue": "'DataFrame' object is not callable",
     "output_type": "error",
     "traceback": [
      "\u001b[0;31m---------------------------------------------------------------------------\u001b[0m",
      "\u001b[0;31mTypeError\u001b[0m                                 Traceback (most recent call last)",
      "\u001b[0;32m<ipython-input-14-b83985590bfb>\u001b[0m in \u001b[0;36m<module>\u001b[0;34m()\u001b[0m\n\u001b[0;32m----> 1\u001b[0;31m \u001b[0msupport\u001b[0m \u001b[0;34m=\u001b[0m \u001b[0mmerged\u001b[0m\u001b[0;34m(\u001b[0m\u001b[0mmerged\u001b[0m\u001b[0;34m.\u001b[0m\u001b[0mcommittee_position\u001b[0m \u001b[0;34m==\u001b[0m \u001b[0;34m\"SUPPORT\"\u001b[0m\u001b[0;34m)\u001b[0m\u001b[0;34m\u001b[0m\u001b[0m\n\u001b[0m",
      "\u001b[0;31mTypeError\u001b[0m: 'DataFrame' object is not callable"
     ]
    }
   ],
   "source": [
    "support = merged(merged.committee_position == \"SUPPORT\")"
   ]
  },
  {
   "cell_type": "code",
   "execution_count": 15,
   "metadata": {
    "collapsed": true
   },
   "outputs": [],
   "source": [
    "support = merged[merged.committee_position == 'SUPPORT']"
   ]
  },
  {
   "cell_type": "code",
   "execution_count": 16,
   "metadata": {
    "collapsed": true
   },
   "outputs": [],
   "source": [
    "oppose = merged[merged.committee_position == 'OPPOSE']"
   ]
  },
  {
   "cell_type": "code",
   "execution_count": 17,
   "metadata": {},
   "outputs": [
    {
     "name": "stdout",
     "output_type": "stream",
     "text": [
      "                                            ocd_prop_id  calaccess_prop_id  \\\n",
      "0      ocd-contest/b51dc64d-3562-4913-a190-69f5088c22a6            1376258   \n",
      "1      ocd-contest/b51dc64d-3562-4913-a190-69f5088c22a6            1376258   \n",
      "2      ocd-contest/b51dc64d-3562-4913-a190-69f5088c22a6            1376258   \n",
      "3      ocd-contest/b51dc64d-3562-4913-a190-69f5088c22a6            1376258   \n",
      "4      ocd-contest/b51dc64d-3562-4913-a190-69f5088c22a6            1376258   \n",
      "5      ocd-contest/b51dc64d-3562-4913-a190-69f5088c22a6            1376258   \n",
      "6      ocd-contest/b51dc64d-3562-4913-a190-69f5088c22a6            1376258   \n",
      "7      ocd-contest/b51dc64d-3562-4913-a190-69f5088c22a6            1376258   \n",
      "8      ocd-contest/b51dc64d-3562-4913-a190-69f5088c22a6            1376258   \n",
      "9      ocd-contest/b51dc64d-3562-4913-a190-69f5088c22a6            1376258   \n",
      "10     ocd-contest/b51dc64d-3562-4913-a190-69f5088c22a6            1376258   \n",
      "11     ocd-contest/b51dc64d-3562-4913-a190-69f5088c22a6            1376258   \n",
      "12     ocd-contest/b51dc64d-3562-4913-a190-69f5088c22a6            1376258   \n",
      "13     ocd-contest/b51dc64d-3562-4913-a190-69f5088c22a6            1376258   \n",
      "14     ocd-contest/b51dc64d-3562-4913-a190-69f5088c22a6            1376258   \n",
      "15     ocd-contest/b51dc64d-3562-4913-a190-69f5088c22a6            1376258   \n",
      "16     ocd-contest/b51dc64d-3562-4913-a190-69f5088c22a6            1376258   \n",
      "17     ocd-contest/b51dc64d-3562-4913-a190-69f5088c22a6            1376258   \n",
      "18     ocd-contest/b51dc64d-3562-4913-a190-69f5088c22a6            1376258   \n",
      "19     ocd-contest/b51dc64d-3562-4913-a190-69f5088c22a6            1376258   \n",
      "20     ocd-contest/b51dc64d-3562-4913-a190-69f5088c22a6            1376258   \n",
      "21     ocd-contest/b51dc64d-3562-4913-a190-69f5088c22a6            1376258   \n",
      "22     ocd-contest/b51dc64d-3562-4913-a190-69f5088c22a6            1376258   \n",
      "23     ocd-contest/b51dc64d-3562-4913-a190-69f5088c22a6            1376258   \n",
      "24     ocd-contest/b51dc64d-3562-4913-a190-69f5088c22a6            1376258   \n",
      "25     ocd-contest/b51dc64d-3562-4913-a190-69f5088c22a6            1376258   \n",
      "26     ocd-contest/b51dc64d-3562-4913-a190-69f5088c22a6            1376258   \n",
      "27     ocd-contest/b51dc64d-3562-4913-a190-69f5088c22a6            1376258   \n",
      "28     ocd-contest/b51dc64d-3562-4913-a190-69f5088c22a6            1376258   \n",
      "29     ocd-contest/b51dc64d-3562-4913-a190-69f5088c22a6            1376258   \n",
      "...                                                 ...                ...   \n",
      "90234  ocd-contest/7495cdbe-1aa7-4c26-9a55-aa4130347b95            1372638   \n",
      "90235  ocd-contest/7495cdbe-1aa7-4c26-9a55-aa4130347b95            1372638   \n",
      "90236  ocd-contest/7495cdbe-1aa7-4c26-9a55-aa4130347b95            1372638   \n",
      "90237  ocd-contest/7495cdbe-1aa7-4c26-9a55-aa4130347b95            1372638   \n",
      "90238  ocd-contest/7495cdbe-1aa7-4c26-9a55-aa4130347b95            1372638   \n",
      "90239  ocd-contest/7495cdbe-1aa7-4c26-9a55-aa4130347b95            1372638   \n",
      "90240  ocd-contest/7495cdbe-1aa7-4c26-9a55-aa4130347b95            1372638   \n",
      "90241  ocd-contest/7495cdbe-1aa7-4c26-9a55-aa4130347b95            1372638   \n",
      "90242  ocd-contest/7495cdbe-1aa7-4c26-9a55-aa4130347b95            1372638   \n",
      "90243  ocd-contest/7495cdbe-1aa7-4c26-9a55-aa4130347b95            1372638   \n",
      "90244  ocd-contest/7495cdbe-1aa7-4c26-9a55-aa4130347b95            1372638   \n",
      "90245  ocd-contest/7495cdbe-1aa7-4c26-9a55-aa4130347b95            1372638   \n",
      "90246  ocd-contest/7495cdbe-1aa7-4c26-9a55-aa4130347b95            1372638   \n",
      "90247  ocd-contest/7495cdbe-1aa7-4c26-9a55-aa4130347b95            1372638   \n",
      "90248  ocd-contest/7495cdbe-1aa7-4c26-9a55-aa4130347b95            1372638   \n",
      "90249  ocd-contest/7495cdbe-1aa7-4c26-9a55-aa4130347b95            1372638   \n",
      "90250  ocd-contest/7495cdbe-1aa7-4c26-9a55-aa4130347b95            1372638   \n",
      "90251  ocd-contest/7495cdbe-1aa7-4c26-9a55-aa4130347b95            1372638   \n",
      "90252  ocd-contest/7495cdbe-1aa7-4c26-9a55-aa4130347b95            1372638   \n",
      "90253  ocd-contest/7495cdbe-1aa7-4c26-9a55-aa4130347b95            1372638   \n",
      "90254  ocd-contest/7495cdbe-1aa7-4c26-9a55-aa4130347b95            1372638   \n",
      "90255  ocd-contest/7495cdbe-1aa7-4c26-9a55-aa4130347b95            1372638   \n",
      "90256  ocd-contest/7495cdbe-1aa7-4c26-9a55-aa4130347b95            1372638   \n",
      "90257  ocd-contest/7495cdbe-1aa7-4c26-9a55-aa4130347b95            1372638   \n",
      "90258  ocd-contest/7495cdbe-1aa7-4c26-9a55-aa4130347b95            1372638   \n",
      "90259  ocd-contest/7495cdbe-1aa7-4c26-9a55-aa4130347b95            1372638   \n",
      "90260  ocd-contest/7495cdbe-1aa7-4c26-9a55-aa4130347b95            1372638   \n",
      "90261  ocd-contest/7495cdbe-1aa7-4c26-9a55-aa4130347b95            1372638   \n",
      "90262  ocd-contest/7495cdbe-1aa7-4c26-9a55-aa4130347b95            1372638   \n",
      "90263  ocd-contest/7495cdbe-1aa7-4c26-9a55-aa4130347b95            1372638   \n",
      "\n",
      "       ccdc_prop_id                                          prop_name  \\\n",
      "0                70  PROPOSITION 051 - SCHOOL BONDS. FUNDING FOR K-...   \n",
      "1                70  PROPOSITION 051 - SCHOOL BONDS. FUNDING FOR K-...   \n",
      "2                70  PROPOSITION 051 - SCHOOL BONDS. FUNDING FOR K-...   \n",
      "3                70  PROPOSITION 051 - SCHOOL BONDS. FUNDING FOR K-...   \n",
      "4                70  PROPOSITION 051 - SCHOOL BONDS. FUNDING FOR K-...   \n",
      "5                70  PROPOSITION 051 - SCHOOL BONDS. FUNDING FOR K-...   \n",
      "6                70  PROPOSITION 051 - SCHOOL BONDS. FUNDING FOR K-...   \n",
      "7                70  PROPOSITION 051 - SCHOOL BONDS. FUNDING FOR K-...   \n",
      "8                70  PROPOSITION 051 - SCHOOL BONDS. FUNDING FOR K-...   \n",
      "9                70  PROPOSITION 051 - SCHOOL BONDS. FUNDING FOR K-...   \n",
      "10               70  PROPOSITION 051 - SCHOOL BONDS. FUNDING FOR K-...   \n",
      "11               70  PROPOSITION 051 - SCHOOL BONDS. FUNDING FOR K-...   \n",
      "12               70  PROPOSITION 051 - SCHOOL BONDS. FUNDING FOR K-...   \n",
      "13               70  PROPOSITION 051 - SCHOOL BONDS. FUNDING FOR K-...   \n",
      "14               70  PROPOSITION 051 - SCHOOL BONDS. FUNDING FOR K-...   \n",
      "15               70  PROPOSITION 051 - SCHOOL BONDS. FUNDING FOR K-...   \n",
      "16               70  PROPOSITION 051 - SCHOOL BONDS. FUNDING FOR K-...   \n",
      "17               70  PROPOSITION 051 - SCHOOL BONDS. FUNDING FOR K-...   \n",
      "18               70  PROPOSITION 051 - SCHOOL BONDS. FUNDING FOR K-...   \n",
      "19               70  PROPOSITION 051 - SCHOOL BONDS. FUNDING FOR K-...   \n",
      "20               70  PROPOSITION 051 - SCHOOL BONDS. FUNDING FOR K-...   \n",
      "21               70  PROPOSITION 051 - SCHOOL BONDS. FUNDING FOR K-...   \n",
      "22               70  PROPOSITION 051 - SCHOOL BONDS. FUNDING FOR K-...   \n",
      "23               70  PROPOSITION 051 - SCHOOL BONDS. FUNDING FOR K-...   \n",
      "24               70  PROPOSITION 051 - SCHOOL BONDS. FUNDING FOR K-...   \n",
      "25               70  PROPOSITION 051 - SCHOOL BONDS. FUNDING FOR K-...   \n",
      "26               70  PROPOSITION 051 - SCHOOL BONDS. FUNDING FOR K-...   \n",
      "27               70  PROPOSITION 051 - SCHOOL BONDS. FUNDING FOR K-...   \n",
      "28               70  PROPOSITION 051 - SCHOOL BONDS. FUNDING FOR K-...   \n",
      "29               70  PROPOSITION 051 - SCHOOL BONDS. FUNDING FOR K-...   \n",
      "...             ...                                                ...   \n",
      "90234            86  PROPOSITION 067- REFERENDUM TO OVERTURN BAN ON...   \n",
      "90235            86  PROPOSITION 067- REFERENDUM TO OVERTURN BAN ON...   \n",
      "90236            86  PROPOSITION 067- REFERENDUM TO OVERTURN BAN ON...   \n",
      "90237            86  PROPOSITION 067- REFERENDUM TO OVERTURN BAN ON...   \n",
      "90238            86  PROPOSITION 067- REFERENDUM TO OVERTURN BAN ON...   \n",
      "90239            86  PROPOSITION 067- REFERENDUM TO OVERTURN BAN ON...   \n",
      "90240            86  PROPOSITION 067- REFERENDUM TO OVERTURN BAN ON...   \n",
      "90241            86  PROPOSITION 067- REFERENDUM TO OVERTURN BAN ON...   \n",
      "90242            86  PROPOSITION 067- REFERENDUM TO OVERTURN BAN ON...   \n",
      "90243            86  PROPOSITION 067- REFERENDUM TO OVERTURN BAN ON...   \n",
      "90244            86  PROPOSITION 067- REFERENDUM TO OVERTURN BAN ON...   \n",
      "90245            86  PROPOSITION 067- REFERENDUM TO OVERTURN BAN ON...   \n",
      "90246            86  PROPOSITION 067- REFERENDUM TO OVERTURN BAN ON...   \n",
      "90247            86  PROPOSITION 067- REFERENDUM TO OVERTURN BAN ON...   \n",
      "90248            86  PROPOSITION 067- REFERENDUM TO OVERTURN BAN ON...   \n",
      "90249            86  PROPOSITION 067- REFERENDUM TO OVERTURN BAN ON...   \n",
      "90250            86  PROPOSITION 067- REFERENDUM TO OVERTURN BAN ON...   \n",
      "90251            86  PROPOSITION 067- REFERENDUM TO OVERTURN BAN ON...   \n",
      "90252            86  PROPOSITION 067- REFERENDUM TO OVERTURN BAN ON...   \n",
      "90253            86  PROPOSITION 067- REFERENDUM TO OVERTURN BAN ON...   \n",
      "90254            86  PROPOSITION 067- REFERENDUM TO OVERTURN BAN ON...   \n",
      "90255            86  PROPOSITION 067- REFERENDUM TO OVERTURN BAN ON...   \n",
      "90256            86  PROPOSITION 067- REFERENDUM TO OVERTURN BAN ON...   \n",
      "90257            86  PROPOSITION 067- REFERENDUM TO OVERTURN BAN ON...   \n",
      "90258            86  PROPOSITION 067- REFERENDUM TO OVERTURN BAN ON...   \n",
      "90259            86  PROPOSITION 067- REFERENDUM TO OVERTURN BAN ON...   \n",
      "90260            86  PROPOSITION 067- REFERENDUM TO OVERTURN BAN ON...   \n",
      "90261            86  PROPOSITION 067- REFERENDUM TO OVERTURN BAN ON...   \n",
      "90262            86  PROPOSITION 067- REFERENDUM TO OVERTURN BAN ON...   \n",
      "90263            86  PROPOSITION 067- REFERENDUM TO OVERTURN BAN ON...   \n",
      "\n",
      "       ccdc_committee_id  calaccess_committee_id  \\\n",
      "0                    382                 1374469   \n",
      "1                    382                 1374469   \n",
      "2                    382                 1374469   \n",
      "3                    382                 1374469   \n",
      "4                    382                 1374469   \n",
      "5                    382                 1374469   \n",
      "6                    382                 1374469   \n",
      "7                    382                 1374469   \n",
      "8                    382                 1374469   \n",
      "9                    382                 1374469   \n",
      "10                   382                 1374469   \n",
      "11                   382                 1374469   \n",
      "12                   382                 1374469   \n",
      "13                   382                 1374469   \n",
      "14                   382                 1374469   \n",
      "15                   382                 1374469   \n",
      "16                   382                 1374469   \n",
      "17                   382                 1374469   \n",
      "18                   382                 1374469   \n",
      "19                   382                 1374469   \n",
      "20                   382                 1374469   \n",
      "21                   382                 1374469   \n",
      "22                   382                 1374469   \n",
      "23                   382                 1374469   \n",
      "24                   382                 1374469   \n",
      "25                   382                 1374469   \n",
      "26                   382                 1374469   \n",
      "27                   382                 1374469   \n",
      "28                   382                 1374469   \n",
      "29                   382                 1374469   \n",
      "...                  ...                     ...   \n",
      "90234                480                 1374885   \n",
      "90235                480                 1374885   \n",
      "90236                480                 1374885   \n",
      "90237                480                 1374885   \n",
      "90238                480                 1374885   \n",
      "90239                481                 1346973   \n",
      "90240                481                 1346973   \n",
      "90241                483                 1389817   \n",
      "90242                483                 1389817   \n",
      "90243                483                 1389817   \n",
      "90244                483                 1389817   \n",
      "90245                483                 1389817   \n",
      "90246                483                 1389817   \n",
      "90247                483                 1389817   \n",
      "90248                483                 1389817   \n",
      "90249                483                 1389817   \n",
      "90250                483                 1389817   \n",
      "90251                483                 1389817   \n",
      "90252                483                 1389817   \n",
      "90253                483                 1389817   \n",
      "90254                483                 1389817   \n",
      "90255                483                 1389817   \n",
      "90256                483                 1389817   \n",
      "90257                483                 1389817   \n",
      "90258                483                 1389817   \n",
      "90259                483                 1389817   \n",
      "90260                483                 1389817   \n",
      "90261                483                 1389817   \n",
      "90262                483                 1389817   \n",
      "90263                483                 1389817   \n",
      "\n",
      "                                        committee_name_x committee_position  \\\n",
      "0      YES ON PROPOSITION 51 - CALIFORNIANS FOR QUALI...            SUPPORT   \n",
      "1      YES ON PROPOSITION 51 - CALIFORNIANS FOR QUALI...            SUPPORT   \n",
      "2      YES ON PROPOSITION 51 - CALIFORNIANS FOR QUALI...            SUPPORT   \n",
      "3      YES ON PROPOSITION 51 - CALIFORNIANS FOR QUALI...            SUPPORT   \n",
      "4      YES ON PROPOSITION 51 - CALIFORNIANS FOR QUALI...            SUPPORT   \n",
      "5      YES ON PROPOSITION 51 - CALIFORNIANS FOR QUALI...            SUPPORT   \n",
      "6      YES ON PROPOSITION 51 - CALIFORNIANS FOR QUALI...            SUPPORT   \n",
      "7      YES ON PROPOSITION 51 - CALIFORNIANS FOR QUALI...            SUPPORT   \n",
      "8      YES ON PROPOSITION 51 - CALIFORNIANS FOR QUALI...            SUPPORT   \n",
      "9      YES ON PROPOSITION 51 - CALIFORNIANS FOR QUALI...            SUPPORT   \n",
      "10     YES ON PROPOSITION 51 - CALIFORNIANS FOR QUALI...            SUPPORT   \n",
      "11     YES ON PROPOSITION 51 - CALIFORNIANS FOR QUALI...            SUPPORT   \n",
      "12     YES ON PROPOSITION 51 - CALIFORNIANS FOR QUALI...            SUPPORT   \n",
      "13     YES ON PROPOSITION 51 - CALIFORNIANS FOR QUALI...            SUPPORT   \n",
      "14     YES ON PROPOSITION 51 - CALIFORNIANS FOR QUALI...            SUPPORT   \n",
      "15     YES ON PROPOSITION 51 - CALIFORNIANS FOR QUALI...            SUPPORT   \n",
      "16     YES ON PROPOSITION 51 - CALIFORNIANS FOR QUALI...            SUPPORT   \n",
      "17     YES ON PROPOSITION 51 - CALIFORNIANS FOR QUALI...            SUPPORT   \n",
      "18     YES ON PROPOSITION 51 - CALIFORNIANS FOR QUALI...            SUPPORT   \n",
      "19     YES ON PROPOSITION 51 - CALIFORNIANS FOR QUALI...            SUPPORT   \n",
      "20     YES ON PROPOSITION 51 - CALIFORNIANS FOR QUALI...            SUPPORT   \n",
      "21     YES ON PROPOSITION 51 - CALIFORNIANS FOR QUALI...            SUPPORT   \n",
      "22     YES ON PROPOSITION 51 - CALIFORNIANS FOR QUALI...            SUPPORT   \n",
      "23     YES ON PROPOSITION 51 - CALIFORNIANS FOR QUALI...            SUPPORT   \n",
      "24     YES ON PROPOSITION 51 - CALIFORNIANS FOR QUALI...            SUPPORT   \n",
      "25     YES ON PROPOSITION 51 - CALIFORNIANS FOR QUALI...            SUPPORT   \n",
      "26     YES ON PROPOSITION 51 - CALIFORNIANS FOR QUALI...            SUPPORT   \n",
      "27     YES ON PROPOSITION 51 - CALIFORNIANS FOR QUALI...            SUPPORT   \n",
      "28     YES ON PROPOSITION 51 - CALIFORNIANS FOR QUALI...            SUPPORT   \n",
      "29     YES ON PROPOSITION 51 - CALIFORNIANS FOR QUALI...            SUPPORT   \n",
      "...                                                  ...                ...   \n",
      "90234  YES ON 67 - CALIFORNIANS AGAINST WASTE - PROTE...            SUPPORT   \n",
      "90235  YES ON 67 - CALIFORNIANS AGAINST WASTE - PROTE...            SUPPORT   \n",
      "90236  YES ON 67 - CALIFORNIANS AGAINST WASTE - PROTE...            SUPPORT   \n",
      "90237  YES ON 67 - CALIFORNIANS AGAINST WASTE - PROTE...            SUPPORT   \n",
      "90238  YES ON 67 - CALIFORNIANS AGAINST WASTE - PROTE...            SUPPORT   \n",
      "90239  CALIFORNIA GROCERS ASSOCIATION ISSUES COMMITTE...            SUPPORT   \n",
      "90240  CALIFORNIA GROCERS ASSOCIATION ISSUES COMMITTE...            SUPPORT   \n",
      "90241  SAVE THE BAY ACTION FUND COMMITTEE TO SUPPORT ...            SUPPORT   \n",
      "90242  SAVE THE BAY ACTION FUND COMMITTEE TO SUPPORT ...            SUPPORT   \n",
      "90243  SAVE THE BAY ACTION FUND COMMITTEE TO SUPPORT ...            SUPPORT   \n",
      "90244  SAVE THE BAY ACTION FUND COMMITTEE TO SUPPORT ...            SUPPORT   \n",
      "90245  SAVE THE BAY ACTION FUND COMMITTEE TO SUPPORT ...            SUPPORT   \n",
      "90246  SAVE THE BAY ACTION FUND COMMITTEE TO SUPPORT ...            SUPPORT   \n",
      "90247  SAVE THE BAY ACTION FUND COMMITTEE TO SUPPORT ...            SUPPORT   \n",
      "90248  SAVE THE BAY ACTION FUND COMMITTEE TO SUPPORT ...            SUPPORT   \n",
      "90249  SAVE THE BAY ACTION FUND COMMITTEE TO SUPPORT ...            SUPPORT   \n",
      "90250  SAVE THE BAY ACTION FUND COMMITTEE TO SUPPORT ...            SUPPORT   \n",
      "90251  SAVE THE BAY ACTION FUND COMMITTEE TO SUPPORT ...            SUPPORT   \n",
      "90252  SAVE THE BAY ACTION FUND COMMITTEE TO SUPPORT ...            SUPPORT   \n",
      "90253  SAVE THE BAY ACTION FUND COMMITTEE TO SUPPORT ...            SUPPORT   \n",
      "90254  SAVE THE BAY ACTION FUND COMMITTEE TO SUPPORT ...            SUPPORT   \n",
      "90255  SAVE THE BAY ACTION FUND COMMITTEE TO SUPPORT ...            SUPPORT   \n",
      "90256  SAVE THE BAY ACTION FUND COMMITTEE TO SUPPORT ...            SUPPORT   \n",
      "90257  SAVE THE BAY ACTION FUND COMMITTEE TO SUPPORT ...            SUPPORT   \n",
      "90258  SAVE THE BAY ACTION FUND COMMITTEE TO SUPPORT ...            SUPPORT   \n",
      "90259  SAVE THE BAY ACTION FUND COMMITTEE TO SUPPORT ...            SUPPORT   \n",
      "90260  SAVE THE BAY ACTION FUND COMMITTEE TO SUPPORT ...            SUPPORT   \n",
      "90261  SAVE THE BAY ACTION FUND COMMITTEE TO SUPPORT ...            SUPPORT   \n",
      "90262  SAVE THE BAY ACTION FUND COMMITTEE TO SUPPORT ...            SUPPORT   \n",
      "90263  SAVE THE BAY ACTION FUND COMMITTEE TO SUPPORT ...            SUPPORT   \n",
      "\n",
      "                                        committee_name_y  calaccess_filing_id  \\\n",
      "0      YES ON PROPOSITION 51 - CALIFORNIANS FOR QUALI...              1965180   \n",
      "1      YES ON PROPOSITION 51 - CALIFORNIANS FOR QUALI...              1965180   \n",
      "2      YES ON PROPOSITION 51 - CALIFORNIANS FOR QUALI...              1965180   \n",
      "3      YES ON PROPOSITION 51 - CALIFORNIANS FOR QUALI...              1965180   \n",
      "4      YES ON PROPOSITION 51 - CALIFORNIANS FOR QUALI...              1965180   \n",
      "5      YES ON PROPOSITION 51 - CALIFORNIANS FOR QUALI...              1965180   \n",
      "6      YES ON PROPOSITION 51 - CALIFORNIANS FOR QUALI...              1982668   \n",
      "7      YES ON PROPOSITION 51 - CALIFORNIANS FOR QUALI...              1982668   \n",
      "8      YES ON PROPOSITION 51 - CALIFORNIANS FOR QUALI...              1982668   \n",
      "9      YES ON PROPOSITION 51 - CALIFORNIANS FOR QUALI...              1982668   \n",
      "10     YES ON PROPOSITION 51 - CALIFORNIANS FOR QUALI...              1982668   \n",
      "11     YES ON PROPOSITION 51 - CALIFORNIANS FOR QUALI...              1982668   \n",
      "12     YES ON PROPOSITION 51 - CALIFORNIANS FOR QUALI...              1982668   \n",
      "13     YES ON PROPOSITION 51 - CALIFORNIANS FOR QUALI...              1982668   \n",
      "14     YES ON PROPOSITION 51 - CALIFORNIANS FOR QUALI...              1982668   \n",
      "15     YES ON PROPOSITION 51 - CALIFORNIANS FOR QUALI...              1982668   \n",
      "16     YES ON PROPOSITION 51 - CALIFORNIANS FOR QUALI...              1997864   \n",
      "17     YES ON PROPOSITION 51 - CALIFORNIANS FOR QUALI...              1997864   \n",
      "18     YES ON PROPOSITION 51 - CALIFORNIANS FOR QUALI...              2012265   \n",
      "19     YES ON PROPOSITION 51 - CALIFORNIANS FOR QUALI...              2012265   \n",
      "20     YES ON PROPOSITION 51 - CALIFORNIANS FOR QUALI...              2012265   \n",
      "21     YES ON PROPOSITION 51 - CALIFORNIANS FOR QUALI...              2012265   \n",
      "22     YES ON PROPOSITION 51 - CALIFORNIANS FOR QUALI...              2012265   \n",
      "23     YES ON PROPOSITION 51 - CALIFORNIANS FOR QUALI...              2012265   \n",
      "24     YES ON PROPOSITION 51 - CALIFORNIANS FOR QUALI...              2012265   \n",
      "25     YES ON PROPOSITION 51 - CALIFORNIANS FOR QUALI...              2012265   \n",
      "26     YES ON PROPOSITION 51 - CALIFORNIANS FOR QUALI...              2012265   \n",
      "27     YES ON PROPOSITION 51 - CALIFORNIANS FOR QUALI...              2012265   \n",
      "28     YES ON PROPOSITION 51 - CALIFORNIANS FOR QUALI...              2012265   \n",
      "29     YES ON PROPOSITION 51 - CALIFORNIANS FOR QUALI...              2012265   \n",
      "...                                                  ...                  ...   \n",
      "90234  YES ON 67 - CALIFORNIANS AGAINST WASTE - PROTE...              2064930   \n",
      "90235  YES ON 67 - CALIFORNIANS AGAINST WASTE - PROTE...              2064930   \n",
      "90236  YES ON 67 - CALIFORNIANS AGAINST WASTE - PROTE...              2083470   \n",
      "90237  YES ON 67 - CALIFORNIANS AGAINST WASTE - PROTE...              2098376   \n",
      "90238  YES ON 67 - CALIFORNIANS AGAINST WASTE - PROTE...              2098376   \n",
      "90239  CALIFORNIA GROCERS ASSOCIATION ISSUES COMMITTE...              1965934   \n",
      "90240  CALIFORNIA GROCERS ASSOCIATION ISSUES COMMITTE...              1965934   \n",
      "90241  SAVE THE BAY ACTION FUND COMMITTEE TO SUPPORT ...              2083027   \n",
      "90242  SAVE THE BAY ACTION FUND COMMITTEE TO SUPPORT ...              2097613   \n",
      "90243  SAVE THE BAY ACTION FUND COMMITTEE TO SUPPORT ...              2097613   \n",
      "90244  SAVE THE BAY ACTION FUND COMMITTEE TO SUPPORT ...              2097613   \n",
      "90245  SAVE THE BAY ACTION FUND COMMITTEE TO SUPPORT ...              2097613   \n",
      "90246  SAVE THE BAY ACTION FUND COMMITTEE TO SUPPORT ...              2097613   \n",
      "90247  SAVE THE BAY ACTION FUND COMMITTEE TO SUPPORT ...              2130495   \n",
      "90248  SAVE THE BAY ACTION FUND COMMITTEE TO SUPPORT ...              2130495   \n",
      "90249  SAVE THE BAY ACTION FUND COMMITTEE TO SUPPORT ...              2130495   \n",
      "90250  SAVE THE BAY ACTION FUND COMMITTEE TO SUPPORT ...              2130495   \n",
      "90251  SAVE THE BAY ACTION FUND COMMITTEE TO SUPPORT ...              2130495   \n",
      "90252  SAVE THE BAY ACTION FUND COMMITTEE TO SUPPORT ...              2130495   \n",
      "90253  SAVE THE BAY ACTION FUND COMMITTEE TO SUPPORT ...              2130495   \n",
      "90254  SAVE THE BAY ACTION FUND COMMITTEE TO SUPPORT ...              2130495   \n",
      "90255  SAVE THE BAY ACTION FUND COMMITTEE TO SUPPORT ...              2130495   \n",
      "90256  SAVE THE BAY ACTION FUND COMMITTEE TO SUPPORT ...              2130495   \n",
      "90257  SAVE THE BAY ACTION FUND COMMITTEE TO SUPPORT ...              2130495   \n",
      "90258  SAVE THE BAY ACTION FUND COMMITTEE TO SUPPORT ...              2130495   \n",
      "90259  SAVE THE BAY ACTION FUND COMMITTEE TO SUPPORT ...              2130495   \n",
      "90260  SAVE THE BAY ACTION FUND COMMITTEE TO SUPPORT ...              2130495   \n",
      "90261  SAVE THE BAY ACTION FUND COMMITTEE TO SUPPORT ...              2130495   \n",
      "90262  SAVE THE BAY ACTION FUND COMMITTEE TO SUPPORT ...              2130495   \n",
      "90263  SAVE THE BAY ACTION FUND COMMITTEE TO SUPPORT ...              2130495   \n",
      "\n",
      "      date_received                               contributor_lastname  \\\n",
      "0        2015-01-15  CALIFORNIA BUILDING INDUSTRY ASSOCIATION ISSUE...   \n",
      "1        2015-01-16  COALITION FOR ADEQUATE SCHOOL HOUSING ISSUES C...   \n",
      "2        2015-01-28  CALIFORNIA BUILDING INDUSTRY ASSOCIATION ISSUE...   \n",
      "3        2015-01-28  COALITION FOR ADEQUATE SCHOOL HOUSING ISSUES C...   \n",
      "4        2015-03-23  CALIFORNIA BUILDING INDUSTRY ASSOCIATION ISSUE...   \n",
      "5        2015-03-23  COALITION FOR ADEQUATE SCHOOL HOUSING ISSUES C...   \n",
      "6        2015-04-15  CALIFORNIA BUILDING INDUSTRY ASSOCIATION ISSUE...   \n",
      "7        2015-04-15  COALITION FOR ADEQUATE SCHOOL HOUSING ISSUES C...   \n",
      "8        2015-04-28  CALIFORNIA BUILDING INDUSTRY ASSOCIATION ISSUE...   \n",
      "9        2015-05-04  COALITION FOR ADEQUATE SCHOOL HOUSING ISSUES C...   \n",
      "10       2015-05-05  CALIFORNIA BUILDING INDUSTRY ASSOCIATION ISSUE...   \n",
      "11       2015-05-06  COALITION FOR ADEQUATE SCHOOL HOUSING ISSUES C...   \n",
      "12       2015-05-19  CALIFORNIA BUILDING INDUSTRY ASSOCIATION ISSUE...   \n",
      "13       2015-05-21  COALITION FOR ADEQUATE SCHOOL HOUSING ISSUES C...   \n",
      "14       2015-06-05  COALITION FOR ADEQUATE SCHOOL HOUSING ISSUES C...   \n",
      "15       2015-06-09  CALIFORNIA BUILDING INDUSTRY ASSOCIATION ISSUE...   \n",
      "16       2015-09-03  COALITION FOR ADEQUATE SCHOOL HOUSING ISSUES C...   \n",
      "17       2015-09-09  CALIFORNIA BUILDING INDUSTRY ASSOCIATION ISSUE...   \n",
      "18       2015-12-28                                ELLIOTT HOMES, INC.   \n",
      "19       2015-10-28                                          RICCOBONI   \n",
      "20       2015-11-20                 CALIFORNIA BUSINESS ROUNDTABLE PAC   \n",
      "21       2015-11-24                                 RAYMUS HOMES, INC.   \n",
      "22       2015-11-30                                   PULTEGROUP, INC.   \n",
      "23       2015-11-30                                  THE O'BRIEN GROUP   \n",
      "24       2015-12-01                             TRI POINTE HOMES, INC.   \n",
      "25       2015-12-07                                          AMERISINK   \n",
      "26       2015-12-07                        ASSOCIA NORTHERN CALIFORNIA   \n",
      "27       2015-12-07                            ATLANTIC CONCRETE, INC.   \n",
      "28       2015-12-07                CALIFORNIA MANTEL & FIREPLACE, INC.   \n",
      "29       2015-12-07                           CENTRIQ TECHNOLOGY, INC.   \n",
      "...             ...                                                ...   \n",
      "90234    2016-05-23                                        VOSS-JENSEN   \n",
      "90235    2016-05-31                                           WHITAKER   \n",
      "90236    2016-07-26                                            MAIBACH   \n",
      "90237    2016-09-29                                         CRM RUBBER   \n",
      "90238    2016-09-29                             MARIN SANITARY SERVICE   \n",
      "90239    2015-02-24                     CALIFORNIA GROCERS ASSOCIATION   \n",
      "90240    2015-02-24                     CALIFORNIA GROCERS ASSOCIATION   \n",
      "90241    2016-09-09                                             WEEDEN   \n",
      "90242    2016-10-20                                        BAUMGARTNER   \n",
      "90243    2016-10-22                                             JENSEN   \n",
      "90244    2016-10-19                                             MACKAY   \n",
      "90245    2016-10-20                                            MARTENS   \n",
      "90246    2016-10-19                                          WHITEHEAD   \n",
      "90247    2016-10-24                                             DUVALL   \n",
      "90248    2016-10-24                                            GOITEIN   \n",
      "90249    2016-10-25                                             JANDIK   \n",
      "90250    2016-10-24                                            JOHNSON   \n",
      "90251    2016-10-27                                             JUSTIN   \n",
      "90252    2016-10-27                                   PINKERTON SPIETH   \n",
      "90253    2016-10-24                                              QUINN   \n",
      "90254    2016-12-31                 SAVE THE BAY (NONPROFIT 501(C)(3))   \n",
      "90255    2016-12-31                           SAVE THE BAY ACTION FUND   \n",
      "90256    2016-10-24                                          STRATMANN   \n",
      "90257    2016-11-01                                               WALL   \n",
      "90258    2016-10-24                                             CRABBE   \n",
      "90259    2016-10-29                                              DIEHM   \n",
      "90260    2016-10-27                                              LEWIS   \n",
      "90261    2016-10-24                                               POPE   \n",
      "90262    2016-10-27                                             SMYTHE   \n",
      "90263    2016-10-27                                          VAN KURAN   \n",
      "\n",
      "      contributor_firstname  contributor_city contributor_state  \\\n",
      "0                       NaN        SACRAMENTO                CA   \n",
      "1                       NaN        SAN RAFAEL                CA   \n",
      "2                       NaN        SACRAMENTO                CA   \n",
      "3                       NaN        SAN RAFAEL                CA   \n",
      "4                       NaN        SACRAMENTO                CA   \n",
      "5                       NaN        SAN RAFAEL                CA   \n",
      "6                       NaN        SACRAMENTO                CA   \n",
      "7                       NaN        SAN RAFAEL                CA   \n",
      "8                       NaN        SACRAMENTO                CA   \n",
      "9                       NaN        SAN RAFAEL                CA   \n",
      "10                      NaN        SACRAMENTO                CA   \n",
      "11                      NaN        SAN RAFAEL                CA   \n",
      "12                      NaN        SACRAMENTO                CA   \n",
      "13                      NaN        SAN RAFAEL                CA   \n",
      "14                      NaN        SAN RAFAEL                CA   \n",
      "15                      NaN        SACRAMENTO                CA   \n",
      "16                      NaN        SAN RAFAEL                CA   \n",
      "17                      NaN        SACRAMENTO                CA   \n",
      "18                      NaN            FOLSOM                CA   \n",
      "19                     DAWN           HAYWARD                CA   \n",
      "20                      NaN        SAN RAFAEL                CA   \n",
      "21                      NaN           MANTECA                CA   \n",
      "22                      NaN  BLOOMFIELD HILLS                MI   \n",
      "23                      NaN       FOSTER CITY                CA   \n",
      "24                      NaN            IRVINE                CA   \n",
      "25                      NaN       SAN LEANDRO                CA   \n",
      "26                      NaN        PLEASANTON                CA   \n",
      "27                      NaN            GILROY                CA   \n",
      "28                      NaN        SACRAMENTO                CA   \n",
      "29                      NaN       MILL VALLEY                CA   \n",
      "...                     ...               ...               ...   \n",
      "90234                 KATHY      REDWOOD CITY                CA   \n",
      "90235               STEPHEN        MANCHESTER                CA   \n",
      "90236                SIESEL     SAN FRANCISCO                CA   \n",
      "90237                   NaN     NEWPORT BEACH                CA   \n",
      "90238                   NaN        SAN RAFAEL                CA   \n",
      "90239                   NaN        SACRAMENTO                CA   \n",
      "90240                   NaN        SACRAMENTO                CA   \n",
      "90241                  JOHN     SAN FRANCISCO                CA   \n",
      "90242               RICHARD         PALO ALTO                CA   \n",
      "90243                  JOEL      REDWOOD CITY                CA   \n",
      "90244                LESLIE     SAN FRANCISCO                CA   \n",
      "90245             CHRISTINE    PORTOLA VALLEY                CA   \n",
      "90246                 PETER         LAFAYETTE                CA   \n",
      "90247                  LORI      REDWOOD CITY                CA   \n",
      "90248                ERNEST          ATHERTON                CA   \n",
      "90249               DOLORES          CAMPBELL                CA   \n",
      "90250                   SUE          BERKELEY                CA   \n",
      "90251                 CHRIS      SAINT HELENA                CA   \n",
      "90252                   JAN         LAFAYETTE                CA   \n",
      "90253                   DAN    PORTOLA VALLEY                CA   \n",
      "90254                   NaN           OAKLAND                CA   \n",
      "90255                   NaN           OAKLAND                CA   \n",
      "90256               DEBORAH     SAN FRANCISCO                CA   \n",
      "90257                TAMARA      REDWOOD CITY                CA   \n",
      "90258                 DAVID        SAN CARLOS                CA   \n",
      "90259                  ERIN          BERKELEY                CA   \n",
      "90260                 DAVID        KENSINGTON                CA   \n",
      "90261                   TED            ORINDA                CA   \n",
      "90262                 FIONA     SAN FRANCISCO                CA   \n",
      "90263              VIRGINIA         PALO ALTO                CA   \n",
      "\n",
      "      contributor_zip                       contributor_employer  \\\n",
      "0               95814                                        NaN   \n",
      "1               94901                                        NaN   \n",
      "2               95814                                        NaN   \n",
      "3               94901                                        NaN   \n",
      "4               95814                                        NaN   \n",
      "5               94901                                        NaN   \n",
      "6               95814                                        NaN   \n",
      "7               94901                                        NaN   \n",
      "8               95814                                        NaN   \n",
      "9               94901                                        NaN   \n",
      "10              95814                                        NaN   \n",
      "11              94901                                        NaN   \n",
      "12              95814                                        NaN   \n",
      "13              94901                                        NaN   \n",
      "14              94901                                        NaN   \n",
      "15              95814                                        NaN   \n",
      "16              94901                                        NaN   \n",
      "17              95814                                        NaN   \n",
      "18              95630                                        NaN   \n",
      "19              94544            HAYWARD UNIFIED SCHOOL DISTRICT   \n",
      "20              94901                                        NaN   \n",
      "21              95336                                        NaN   \n",
      "22              48304                                        NaN   \n",
      "23              94404                                        NaN   \n",
      "24              92612                                        NaN   \n",
      "25              94577                                        NaN   \n",
      "26              94588                                        NaN   \n",
      "27              95020                                        NaN   \n",
      "28              95834                                        NaN   \n",
      "29              94941                                        NaN   \n",
      "...               ...                                        ...   \n",
      "90234           94061  KATHY VOSS-JENSEN, PROFESSIONAL ORGANIZER   \n",
      "90235           95459                                       NONE   \n",
      "90236           94109             SIESEL MAIBACH, ART CONSULTANT   \n",
      "90237           92660                                        NaN   \n",
      "90238           93546                                        NaN   \n",
      "90239           95814                                        NaN   \n",
      "90240           95814                                        NaN   \n",
      "90241           94133                                       NONE   \n",
      "90242           94303                                       NONE   \n",
      "90243           94061                       FUNCTION ENGINEERING   \n",
      "90244           94114                                   SAP LABS   \n",
      "90245           94028                        STANFORD HEALTHCARE   \n",
      "90246           94549                PETER WHITEHEAD, ACCOUNTANT   \n",
      "90247           94061                                       EBAY   \n",
      "90248           94027                                       NONE   \n",
      "90249           95008                             SYNOPSYS, INC.   \n",
      "90250           94707             SUE JOHNSON, LIGHTING DESIGNER   \n",
      "90251           94574                                       NONE   \n",
      "90252           94549                                       NONE   \n",
      "90253           94028                                       NONE   \n",
      "90254           94612                                        NaN   \n",
      "90255           94612                                        NaN   \n",
      "90256           94117                                       NONE   \n",
      "90257           94061                                       NONE   \n",
      "90258           94070                                       NONE   \n",
      "90259           94703                                       NONE   \n",
      "90260           94708                               SAVE THE BAY   \n",
      "90261           94563                        2050 PARTNERS, INC.   \n",
      "90262           94121                                   MSCRIPTS   \n",
      "90263           94303                                       NONE   \n",
      "\n",
      "                            contributor_occupation  \\\n",
      "0                                              NaN   \n",
      "1                                              NaN   \n",
      "2                                              NaN   \n",
      "3                                              NaN   \n",
      "4                                              NaN   \n",
      "5                                              NaN   \n",
      "6                                              NaN   \n",
      "7                                              NaN   \n",
      "8                                              NaN   \n",
      "9                                              NaN   \n",
      "10                                             NaN   \n",
      "11                                             NaN   \n",
      "12                                             NaN   \n",
      "13                                             NaN   \n",
      "14                                             NaN   \n",
      "15                                             NaN   \n",
      "16                                             NaN   \n",
      "17                                             NaN   \n",
      "18                                             NaN   \n",
      "19     ASSISTANT SUPERINTENDENT, BUSINESS SERVICES   \n",
      "20                                             NaN   \n",
      "21                                             NaN   \n",
      "22                                             NaN   \n",
      "23                                             NaN   \n",
      "24                                             NaN   \n",
      "25                                             NaN   \n",
      "26                                             NaN   \n",
      "27                                             NaN   \n",
      "28                                             NaN   \n",
      "29                                             NaN   \n",
      "...                                            ...   \n",
      "90234                       PROFESSIONAL ORGANIZER   \n",
      "90235                                      RETIRED   \n",
      "90236                               ART CONSULTANT   \n",
      "90237                                          NaN   \n",
      "90238                                          NaN   \n",
      "90239                                          NaN   \n",
      "90240                                          NaN   \n",
      "90241                                      RETIRED   \n",
      "90242                                      RETIRED   \n",
      "90243                                     ENGINEER   \n",
      "90244                          KNOWLEDGE ARCHITECT   \n",
      "90245                                    BIOLOGIST   \n",
      "90246                                   ACCOUNTANT   \n",
      "90247                     CORPORATE RESPONSIBILITY   \n",
      "90248                                      RETIRED   \n",
      "90249                              IT PROFESSIONAL   \n",
      "90250                            LIGHTING DESIGNER   \n",
      "90251                                   UNEMPLOYED   \n",
      "90252                                      RETIRED   \n",
      "90253                                      RETIRED   \n",
      "90254                                          NaN   \n",
      "90255                                          NaN   \n",
      "90256                                      RETIRED   \n",
      "90257                                   UNEMPLOYED   \n",
      "90258                                      RETIRED   \n",
      "90259                                   UNEMPLOYED   \n",
      "90260                           EXECUTIVE DIRECTOR   \n",
      "90261                            ENERGY CONSULTANT   \n",
      "90262                   VICE PRESIDENT OF STRATEGY   \n",
      "90263                                      RETIRED   \n",
      "\n",
      "       contributor_is_self_employed    amount  \n",
      "0                             False   50000.0  \n",
      "1                             False   55000.0  \n",
      "2                             False  140000.0  \n",
      "3                             False  140000.0  \n",
      "4                             False   50000.0  \n",
      "5                             False   50000.0  \n",
      "6                             False  125000.0  \n",
      "7                             False   75000.0  \n",
      "8                             False  112500.0  \n",
      "9                             False   75000.0  \n",
      "10                            False  100000.0  \n",
      "11                            False  100000.0  \n",
      "12                            False  100000.0  \n",
      "13                            False  100000.0  \n",
      "14                            False  100000.0  \n",
      "15                            False  100000.0  \n",
      "16                            False  100000.0  \n",
      "17                            False  100000.0  \n",
      "18                            False   37500.0  \n",
      "19                            False     100.0  \n",
      "20                            False   10000.0  \n",
      "21                            False    5000.0  \n",
      "22                            False  112500.0  \n",
      "23                            False   10000.0  \n",
      "24                            False  112500.0  \n",
      "25                            False     100.0  \n",
      "26                            False     100.0  \n",
      "27                            False     100.0  \n",
      "28                            False     100.0  \n",
      "29                            False     100.0  \n",
      "...                             ...       ...  \n",
      "90234                         False     100.0  \n",
      "90235                         False     100.0  \n",
      "90236                         False     100.0  \n",
      "90237                         False    5000.0  \n",
      "90238                         False    1000.0  \n",
      "90239                         False  100000.0  \n",
      "90240                         False  100000.0  \n",
      "90241                         False    5000.0  \n",
      "90242                         False     100.0  \n",
      "90243                         False     100.0  \n",
      "90244                         False     100.0  \n",
      "90245                         False     100.0  \n",
      "90246                         False     100.0  \n",
      "90247                         False     100.0  \n",
      "90248                         False     100.0  \n",
      "90249                         False     100.0  \n",
      "90250                         False     100.0  \n",
      "90251                         False     100.0  \n",
      "90252                         False     100.0  \n",
      "90253                         False     100.0  \n",
      "90254                         False   50000.0  \n",
      "90255                         False   40000.0  \n",
      "90256                         False     100.0  \n",
      "90257                         False     100.0  \n",
      "90258                         False     100.0  \n",
      "90259                         False     150.0  \n",
      "90260                         False     100.0  \n",
      "90261                         False     100.0  \n",
      "90262                         False     100.0  \n",
      "90263                         False     100.0  \n",
      "\n",
      "[50158 rows x 20 columns]\n"
     ]
    }
   ],
   "source": [
    "print support"
   ]
  },
  {
   "cell_type": "code",
   "execution_count": 18,
   "metadata": {},
   "outputs": [
    {
     "data": {
      "text/plain": [
       "240079235.34000006"
      ]
     },
     "execution_count": 18,
     "metadata": {},
     "output_type": "execute_result"
    }
   ],
   "source": [
    "support.amount.sum()"
   ]
  },
  {
   "cell_type": "code",
   "execution_count": 19,
   "metadata": {},
   "outputs": [
    {
     "data": {
      "text/plain": [
       "226772758.05000007"
      ]
     },
     "execution_count": 19,
     "metadata": {},
     "output_type": "execute_result"
    }
   ],
   "source": [
    "oppose.amount.sum()"
   ]
  },
  {
   "cell_type": "code",
   "execution_count": 20,
   "metadata": {},
   "outputs": [
    {
     "data": {
      "text/plain": [
       "0.51425128036123002"
      ]
     },
     "execution_count": 20,
     "metadata": {},
     "output_type": "execute_result"
    }
   ],
   "source": [
    "support.amount.sum() / merged.amount.sum()"
   ]
  },
  {
   "cell_type": "code",
   "execution_count": 21,
   "metadata": {},
   "outputs": [
    {
     "data": {
      "text/plain": [
       "51.425128036123"
      ]
     },
     "execution_count": 21,
     "metadata": {},
     "output_type": "execute_result"
    }
   ],
   "source": [
    "0.51425128036123002 * 100"
   ]
  },
  {
   "cell_type": "code",
   "execution_count": 1,
   "metadata": {},
   "outputs": [
    {
     "ename": "NameError",
     "evalue": "name 'merged' is not defined",
     "output_type": "error",
     "traceback": [
      "\u001b[0;31m---------------------------------------------------------------------------\u001b[0m",
      "\u001b[0;31mNameError\u001b[0m                                 Traceback (most recent call last)",
      "\u001b[0;32m<ipython-input-1-f62cd4a7e61e>\u001b[0m in \u001b[0;36m<module>\u001b[0;34m()\u001b[0m\n\u001b[0;32m----> 1\u001b[0;31m \u001b[0mmerged\u001b[0m\u001b[0;34m.\u001b[0m\u001b[0msort_values\u001b[0m\u001b[0;34m(\u001b[0m\u001b[0;34m\"amount\"\u001b[0m\u001b[0;34m)\u001b[0m\u001b[0;34m\u001b[0m\u001b[0m\n\u001b[0m",
      "\u001b[0;31mNameError\u001b[0m: name 'merged' is not defined"
     ]
    }
   ],
   "source": [
    "merged.sort_values(\"amount\")"
   ]
  },
  {
   "cell_type": "code",
   "execution_count": 2,
   "metadata": {},
   "outputs": [
    {
     "ename": "NameError",
     "evalue": "name 'pd' is not defined",
     "output_type": "error",
     "traceback": [
      "\u001b[0;31m---------------------------------------------------------------------------\u001b[0m",
      "\u001b[0;31mNameError\u001b[0m                                 Traceback (most recent call last)",
      "\u001b[0;32m<ipython-input-2-d3d27f1d6222>\u001b[0m in \u001b[0;36m<module>\u001b[0;34m()\u001b[0m\n\u001b[0;32m----> 1\u001b[0;31m \u001b[0mmerged\u001b[0m \u001b[0;34m=\u001b[0m \u001b[0mpd\u001b[0m\u001b[0;34m.\u001b[0m\u001b[0mmerge\u001b[0m\u001b[0;34m(\u001b[0m\u001b[0mprop\u001b[0m\u001b[0;34m,\u001b[0m \u001b[0mcontribs\u001b[0m\u001b[0;34m,\u001b[0m \u001b[0mon\u001b[0m\u001b[0;34m=\u001b[0m\u001b[0;34m\"calaccess_committee_id\"\u001b[0m\u001b[0;34m)\u001b[0m\u001b[0;34m\u001b[0m\u001b[0m\n\u001b[0m",
      "\u001b[0;31mNameError\u001b[0m: name 'pd' is not defined"
     ]
    }
   ],
   "source": [
    "merged = pd.merge(prop, contribs, on=\"calaccess_committee_id\")"
   ]
  },
  {
   "cell_type": "code",
   "execution_count": null,
   "metadata": {
    "collapsed": true
   },
   "outputs": [],
   "source": []
  }
 ],
 "metadata": {
  "kernelspec": {
   "display_name": "Python 2",
   "language": "python",
   "name": "python2"
  },
  "language_info": {
   "codemirror_mode": {
    "name": "ipython",
    "version": 2
   },
   "file_extension": ".py",
   "mimetype": "text/x-python",
   "name": "python",
   "nbconvert_exporter": "python",
   "pygments_lexer": "ipython2",
   "version": "2.7.10"
  }
 },
 "nbformat": 4,
 "nbformat_minor": 2
}
